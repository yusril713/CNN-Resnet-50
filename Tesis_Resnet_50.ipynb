{
  "nbformat": 4,
  "nbformat_minor": 0,
  "metadata": {
    "accelerator": "GPU",
    "colab": {
      "name": "Tesis Resnet 50.ipynb",
      "provenance": [],
      "collapsed_sections": [],
      "toc_visible": true,
      "mount_file_id": "1a9MmA-B1MhVHn-HNCAJ4iGBsGtpVjRpn",
      "authorship_tag": "ABX9TyM0W9xh2Y1bxiabc54vG8Jr",
      "include_colab_link": true
    },
    "kernelspec": {
      "display_name": "Python 3",
      "name": "python3"
    },
    "language_info": {
      "name": "python"
    }
  },
  "cells": [
    {
      "cell_type": "markdown",
      "metadata": {
        "id": "view-in-github",
        "colab_type": "text"
      },
      "source": [
        "<a href=\"https://colab.research.google.com/github/yusril713/CNN-Resnet-50/blob/main/Tesis_Resnet_50.ipynb\" target=\"_parent\"><img src=\"https://colab.research.google.com/assets/colab-badge.svg\" alt=\"Open In Colab\"/></a>"
      ]
    },
    {
      "cell_type": "code",
      "metadata": {
        "colab": {
          "base_uri": "https://localhost:8080/"
        },
        "id": "SacxzUmC2HGY",
        "outputId": "43185f10-e1b8-49df-e3ec-ec0426d9b4f8"
      },
      "source": [
        "from google.colab import drive\n",
        "drive.mount('/content/drive')"
      ],
      "execution_count": 5,
      "outputs": [
        {
          "output_type": "stream",
          "text": [
            "Drive already mounted at /content/drive; to attempt to forcibly remount, call drive.mount(\"/content/drive\", force_remount=True).\n"
          ],
          "name": "stdout"
        }
      ]
    },
    {
      "cell_type": "markdown",
      "metadata": {
        "id": "Fyn3EIcMSJ4H"
      },
      "source": [
        "# **Required Libraries**"
      ]
    },
    {
      "cell_type": "code",
      "metadata": {
        "id": "vGhsucw9NqQ9"
      },
      "source": [
        "import os\n",
        "import cv2\n",
        "from keras.applications.resnet50 import preprocess_input\n",
        "from keras.utils.np_utils import to_categorical\n",
        "from sklearn.model_selection import train_test_split\n",
        "import numpy as np\n",
        "import pickle\n",
        "import matplotlib.pyplot as plt\n",
        "from tensorflow.keras.layers import Conv2D, BatchNormalization, Activation, Add, Flatten, ZeroPadding2D, AveragePooling2D, MaxPooling2D, Dense, Input\n",
        "from tensorflow.keras.models import Model, load_model\n",
        "from tensorflow.keras.initializers import glorot_uniform\n",
        "from tensorflow.keras.utils import to_categorical\n",
        "from tensorflow.python.keras.callbacks import ModelCheckpoint, LearningRateScheduler\n",
        "import tensorflow as tf\n",
        "from numpy import expand_dims\n",
        "from keras.preprocessing.image import load_img\n",
        "from keras.preprocessing.image import img_to_array\n",
        "from keras.preprocessing.image import ImageDataGenerator\n",
        "from matplotlib import pyplot\n",
        "import sys\n",
        "import cv2\n",
        "import os\n",
        "import random"
      ],
      "execution_count": 6,
      "outputs": []
    },
    {
      "cell_type": "markdown",
      "metadata": {
        "id": "Jh8y7tVDSacy"
      },
      "source": [
        "## **Load Images**"
      ]
    },
    {
      "cell_type": "code",
      "metadata": {
        "id": "ZL6cGpp026hl"
      },
      "source": [
        "def load_images_from_folder(folder):\n",
        "    images = []\n",
        "    for filename in os.listdir(folder):\n",
        "        if filename.endswith(\".jpg\"):\n",
        "            img = cv2.imread(os.path.join(folder, filename))\n",
        "            # img = cv2.equalizeHist(img)\n",
        "            img = cv2.resize(img, (57,57))\n",
        "            # img = cv2.cvtColor(img, cv2.COLOR_BGR2RGB).astype(float)/255\n",
        "            img = cv2.cvtColor(img, cv2.COLOR_BGR2GRAY)\n",
        "            img = cv2.equalizeHist(img)\n",
        "            if img is not None:\n",
        "                images.append(img.astype('float')/255)\n",
        "    return images"
      ],
      "execution_count": 7,
      "outputs": []
    },
    {
      "cell_type": "code",
      "metadata": {
        "id": "LXsl04zrBFAU",
        "colab": {
          "base_uri": "https://localhost:8080/"
        },
        "outputId": "7f18e5b4-f025-4cbb-9624-369ea20b608e"
      },
      "source": [
        "root_folder = '/content/drive/MyDrive/new_dataset'\n",
        "folders = [os.path.join(root_folder, x) for x in ('bahagia', 'jijik', \n",
        "                                                  'marah', 'netral', 'sedih', \n",
        "                                                  'takut', 'terkejut')]\n",
        "# folders = [os.path.join(root_folder, x) for x in ('sedih', 'bahagia', 'jijik', 'marah', 'netral')]\n",
        "# all_images = [img for folder in folders for img in load_images_from_folder(folder)]\n",
        "images = []\n",
        "label = []\n",
        "for i in range(len(folders)):\n",
        "  # if i == 3:\n",
        "  #   break\n",
        "  print(\"Data: \", folders[i])\n",
        "  counter = 1\n",
        "  for j in load_images_from_folder(folders[i]):\n",
        "    images.append(j)\n",
        "    label.append(to_categorical(i, num_classes=7))\n",
        "    if counter == 106:\n",
        "      break\n",
        "    counter += 1"
      ],
      "execution_count": 8,
      "outputs": [
        {
          "output_type": "stream",
          "text": [
            "Data:  /content/drive/MyDrive/new_dataset/bahagia\n",
            "Data:  /content/drive/MyDrive/new_dataset/jijik\n",
            "Data:  /content/drive/MyDrive/new_dataset/marah\n",
            "Data:  /content/drive/MyDrive/new_dataset/netral\n",
            "Data:  /content/drive/MyDrive/new_dataset/sedih\n",
            "Data:  /content/drive/MyDrive/new_dataset/takut\n",
            "Data:  /content/drive/MyDrive/new_dataset/terkejut\n"
          ],
          "name": "stdout"
        }
      ]
    },
    {
      "cell_type": "markdown",
      "metadata": {
        "id": "uikXAD4VSuH5"
      },
      "source": [
        "## **Split Training and Testing Data**"
      ]
    },
    {
      "cell_type": "code",
      "metadata": {
        "colab": {
          "base_uri": "https://localhost:8080/"
        },
        "id": "2_Ge5GrHwV43",
        "outputId": "92f884bd-09cc-423f-ce1f-ba99699e076c"
      },
      "source": [
        "train_test_data = np.array(images)\n",
        "train_test_label = np.array(label)\n",
        "x_train, x_test, y_train, y_test = train_test_split(train_test_data, train_test_label, test_size = 0.1, shuffle = True)\n",
        "print(x_train.shape, y_train.shape)\n",
        "print(x_test.shape, y_test.shape)\n"
      ],
      "execution_count": 9,
      "outputs": [
        {
          "output_type": "stream",
          "text": [
            "(667, 57, 57) (667, 7)\n",
            "(75, 57, 57) (75, 7)\n"
          ],
          "name": "stdout"
        }
      ]
    },
    {
      "cell_type": "markdown",
      "metadata": {
        "id": "nrihzNFcS6w-"
      },
      "source": [
        "## **Data Augmentation**"
      ]
    },
    {
      "cell_type": "code",
      "metadata": {
        "id": "WCJdNe3YwWA6"
      },
      "source": [
        "label_img_augment, img_augment = [], []\n",
        "\n",
        "for a in range(len(x_train)):\n",
        "    # load the image\n",
        "    # convert to numpy array\n",
        "    img = x_train[a, :, :].tolist()\n",
        "    data = img_to_array(img)\n",
        "    # expand dimension to one sample\n",
        "    samples = expand_dims(data, 0)\n",
        "    # create image data augmentation generator\n",
        "    datagen = ImageDataGenerator(horizontal_flip=True)\n",
        "    # prepare iterator\n",
        "    it = datagen.flow(samples, batch_size=1)\n",
        "    # generate samples and plot\n",
        "    for i in range(9):\n",
        "        # define subplot\n",
        "        # pyplot.subplot(330 + 1 + i)\n",
        "        # generate batch of images\n",
        "        batch = it.next()\n",
        "        # convert to unsigned integers for viewing\n",
        "        image = batch[0].astype('float')\n",
        "        img_augment.append(image)\n",
        "        label_img_augment.append(y_train[a])\n",
        "        # plot raw pixel data\n",
        "#         pyplot.imshow(image)\n",
        "    # show the figure\n",
        "#     pyplot.show()\n",
        "\n",
        "    # create image data augmentation generator\n",
        "    datagen = ImageDataGenerator(rotation_range=90)\n",
        "    # prepare iterator\n",
        "    it = datagen.flow(samples, batch_size=1)\n",
        "    # generate samples and plot\n",
        "    for i in range(9):\n",
        "        # define subplot\n",
        "        # pyplot.subplot(330 + 1 + i)\n",
        "        # generate batch of images\n",
        "        batch = it.next()\n",
        "        # convert to unsigned integers for viewing\n",
        "        image = batch[0].astype('float')\n",
        "        img_augment.append(image)\n",
        "        label_img_augment.append(y_train[a])\n",
        "        # plot raw pixel data\n",
        "#         pyplot.imshow(image)\n",
        "    # show the figure\n",
        "#     pyplot.show()\n",
        "\n",
        "    datagen = ImageDataGenerator(brightness_range=[0.2,1.0])\n",
        "    # prepare iterator\n",
        "    it = datagen.flow(samples, batch_size=1)\n",
        "    # generate samples and plot\n",
        "    for i in range(9):\n",
        "        # define subplot\n",
        "        # pyplot.subplot(330 + 1 + i)\n",
        "        # generate batch of images\n",
        "        batch = it.next()\n",
        "        # convert to unsigned integers for viewing\n",
        "        image = batch[0].astype('float')\n",
        "        img_augment.append(image)\n",
        "        label_img_augment.append(y_train[a])"
      ],
      "execution_count": 10,
      "outputs": []
    },
    {
      "cell_type": "markdown",
      "metadata": {
        "id": "e4ZnrVKpTCeY"
      },
      "source": [
        "## **Split Training and Validation Data**"
      ]
    },
    {
      "cell_type": "code",
      "metadata": {
        "colab": {
          "base_uri": "https://localhost:8080/"
        },
        "id": "MI1yzoJfwWEM",
        "outputId": "650483d6-6541-4800-de1e-0630b8ad316e"
      },
      "source": [
        "train_val_data = np.array(img_augment)\n",
        "train_val_label = np.array(label_img_augment)\n",
        "\n",
        "# def normalize_with_moments(x, axes=[0, 1], epsilon=1e-8):\n",
        "#     mean, variance = tf.nn.moments(x, axes=axes)\n",
        "#     x_normed = (x - mean) / tf.sqrt(variance + epsilon) # epsilon to avoid dividing by zero\n",
        "#     return x_normed\n",
        "\n",
        "# train_val_data = tf.transpose(train_val_data.astype('float'))\n",
        "# train_val_data = normalize_with_moments(train_val_data)\n",
        "\n",
        "x_train, x_val, y_train, y_val = train_test_split(train_val_data, train_val_label, test_size = 0.1, shuffle = True)\n",
        "print(x_train.shape, y_train.shape)\n",
        "print(x_val.shape, y_val.shape)"
      ],
      "execution_count": 11,
      "outputs": [
        {
          "output_type": "stream",
          "text": [
            "(16208, 57, 57, 1) (16208, 7)\n",
            "(1801, 57, 57, 1) (1801, 7)\n"
          ],
          "name": "stdout"
        }
      ]
    },
    {
      "cell_type": "markdown",
      "metadata": {
        "id": "5xm0EZ8mTMiA"
      },
      "source": [
        "## **Create Datesets**"
      ]
    },
    {
      "cell_type": "code",
      "metadata": {
        "colab": {
          "base_uri": "https://localhost:8080/"
        },
        "id": "RqD5XwnZ243p",
        "outputId": "9cd3ceaa-0936-4f30-d1ca-69130f145479"
      },
      "source": [
        "def generateDataset(input, label, kode):\n",
        "  print(\"Create data \", kode)\n",
        "  with open ('/content/drive/MyDrive/new_dataset/x_' + str(kode) + '.pkl', 'wb') as f:\n",
        "    pickle.dump(input,f)\n",
        "  \n",
        "  print(\"Create data \", kode)\n",
        "  with open ('/content/drive/MyDrive/new_dataset/y_' + str(kode) + '.pkl', 'wb') as f:\n",
        "    pickle.dump(label,f)\n",
        "\n",
        "# train_val_data = np.array(images)\n",
        "# train_val_label = np.array(label)\n",
        "# x_train, x_val, y_train, y_val = train_test_split(train_val_data, train_val_label, test_size = 0.1, shuffle = True)\n",
        "\n",
        "# train_val_data = x_train\n",
        "# train_val_label = y_train\n",
        "# x_train, x_test, y_train, y_test = train_test_split(train_val_data, train_val_label, test_size = 0.1, shuffle = True)\n",
        "\n",
        "generateDataset(x_train, y_train, \"train\") \n",
        "generateDataset(x_test, y_test, \"test\")\n",
        "generateDataset(x_val, y_val, \"val\")\n",
        "print(x_train.shape)\n",
        "print(y_train.shape)\n",
        "print(x_val.shape)\n",
        "print(y_val.shape)\n",
        "print(x_test.shape)\n",
        "print(y_test.shape)"
      ],
      "execution_count": 12,
      "outputs": [
        {
          "output_type": "stream",
          "text": [
            "Create data  train\n",
            "Create data  train\n",
            "Create data  test\n",
            "Create data  test\n",
            "Create data  val\n",
            "Create data  val\n",
            "(16208, 57, 57, 1)\n",
            "(16208, 7)\n",
            "(1801, 57, 57, 1)\n",
            "(1801, 7)\n",
            "(75, 57, 57)\n",
            "(75, 7)\n"
          ],
          "name": "stdout"
        }
      ]
    },
    {
      "cell_type": "markdown",
      "metadata": {
        "id": "BrJj8jkbTS8m"
      },
      "source": [
        "## **Load Datasets**"
      ]
    },
    {
      "cell_type": "code",
      "metadata": {
        "colab": {
          "base_uri": "https://localhost:8080/"
        },
        "id": "VoTUkMwtO3DU",
        "outputId": "b5827efa-c273-4211-9b21-68724df67a24"
      },
      "source": [
        "def loadData(kode):\n",
        "  with open('/content/drive/MyDrive/new_dataset/x_' + str(kode) + '.pkl', 'rb' ) as f:\n",
        "    X = pickle.load(f) \n",
        "\n",
        "  with open('/content/drive/MyDrive/new_dataset/y_' + str(kode)+ '.pkl', 'rb' ) as f:\n",
        "    y = pickle.load(f)\n",
        "    return X, y \n",
        "\n",
        "x_train, y_train = loadData(\"train\")\n",
        "x_test, y_test = loadData(\"test\")\n",
        "x_val, y_val = loadData(\"val\")\n",
        "print(x_train.shape)\n",
        "print(y_train.shape)\n",
        "print(x_val.shape)\n",
        "print(y_val.shape)\n",
        "print(x_test.shape)\n",
        "print(y_test.shape)"
      ],
      "execution_count": 13,
      "outputs": [
        {
          "output_type": "stream",
          "text": [
            "(16208, 57, 57, 1)\n",
            "(16208, 7)\n",
            "(1801, 57, 57, 1)\n",
            "(1801, 7)\n",
            "(75, 57, 57)\n",
            "(75, 7)\n"
          ],
          "name": "stdout"
        }
      ]
    },
    {
      "cell_type": "markdown",
      "metadata": {
        "id": "-ohpzJ7pTazK"
      },
      "source": [
        "## **Construct The Identity Block**"
      ]
    },
    {
      "cell_type": "code",
      "metadata": {
        "id": "ctmVPcia6ppO"
      },
      "source": [
        "# construct the identity block\n",
        "def block_iden(X, size_filter, num_filter):\n",
        "    \n",
        "    # number of filters used in the 3 conv layer\n",
        "    f1 = num_filter[0]\n",
        "    f2 = num_filter[1]\n",
        "    f3 = num_filter[2]\n",
        "    \n",
        "    # store the X as a shortcut first\n",
        "    X_short = X\n",
        "    \n",
        "    X = Conv2D(filters = f1, kernel_size = (1,1), strides = (1,1), padding = 'valid', kernel_initializer = glorot_uniform(seed=None))(X)\n",
        "    X = BatchNormalization(axis = 3)(X)\n",
        "    X = Activation('relu')(X)\n",
        "    \n",
        "    X = Conv2D(filters = f2, kernel_size = (size_filter,size_filter), strides = (1,1), padding = 'same', kernel_initializer = glorot_uniform(seed=None))(X)\n",
        "    X = BatchNormalization(axis = 3)(X)\n",
        "    X = Activation('relu')(X)\n",
        "    \n",
        "    X = Conv2D(filters = f3, kernel_size = (1,1), strides = (1,1), padding = 'valid', kernel_initializer = glorot_uniform(seed=None))(X)\n",
        "    X = BatchNormalization(axis = 3)(X)\n",
        "    \n",
        "    X = Add()([X, X_short])\n",
        "    \n",
        "    X = Activation('relu')(X)\n",
        "    \n",
        "    return X"
      ],
      "execution_count": 14,
      "outputs": []
    },
    {
      "cell_type": "markdown",
      "metadata": {
        "id": "tcWP_JWMTmOr"
      },
      "source": [
        "## **Construct The Convolution Block**"
      ]
    },
    {
      "cell_type": "code",
      "metadata": {
        "id": "agwh4H1E6prx"
      },
      "source": [
        "# construct the convolution block\n",
        "def block_conv(X, size_filter, num_filter, size_stride):\n",
        "    \n",
        "    # number of filters used in the 3 conv layer\n",
        "    f1 = num_filter[0]\n",
        "    f2 = num_filter[1]\n",
        "    f3 = num_filter[2]\n",
        "    \n",
        "    # store the X as a shortcut first\n",
        "    X_short = Conv2D(filters = f3, kernel_size = (1,1), strides = (size_stride,size_stride), padding = 'valid', kernel_initializer = glorot_uniform(seed=None))(X)\n",
        "    X_short = BatchNormalization(axis = 3)(X_short)\n",
        "    \n",
        "    \n",
        "    X = Conv2D(filters = f1, kernel_size = (1,1), strides = (size_stride,size_stride), padding = 'valid', kernel_initializer = glorot_uniform(seed=None))(X)\n",
        "    X = BatchNormalization(axis = 3)(X)\n",
        "    X = Activation('relu')(X)\n",
        "    \n",
        "    X = Conv2D(filters = f2, kernel_size = (size_filter,size_filter), strides = (1,1), padding = 'same', kernel_initializer = glorot_uniform(seed=None))(X)\n",
        "    X = BatchNormalization(axis = 3)(X)\n",
        "    X = Activation('relu')(X)\n",
        "    \n",
        "    X = Conv2D(filters = f3, kernel_size = (1,1), strides = (1,1), padding = 'valid', kernel_initializer = glorot_uniform(seed=None))(X)\n",
        "    X = BatchNormalization(axis = 3)(X)\n",
        "    \n",
        "    X = Add()([X, X_short])\n",
        "    \n",
        "    X = Activation('relu')(X)\n",
        "    \n",
        "    return X"
      ],
      "execution_count": 15,
      "outputs": []
    },
    {
      "cell_type": "markdown",
      "metadata": {
        "id": "h2ueup3TTuVn"
      },
      "source": [
        "## **Construct The Model**"
      ]
    },
    {
      "cell_type": "code",
      "metadata": {
        "id": "vzo0GlWW6puu"
      },
      "source": [
        "# construct the model\n",
        "def resnet50(shape, classes):\n",
        "    \n",
        "    X_input = Input(shape)\n",
        "    # zero padding\n",
        "    X = ZeroPadding2D(padding = (3,3))(X_input)\n",
        "    \n",
        "    # stage 1\n",
        "    X = Conv2D(filters = 64, kernel_size = (7,7), strides = (2,2), kernel_initializer = glorot_uniform(seed=None))(X)\n",
        "    X = BatchNormalization(axis = 3)(X)\n",
        "    X = Activation('relu')(X)\n",
        "    X = MaxPooling2D(pool_size = (3,3), strides = (2,2))(X)\n",
        "    \n",
        "    # stage 2\n",
        "    X = block_conv(X, 3, [64,64,256], 1)\n",
        "    X = block_iden(X, 3, [64,64,256])\n",
        "    X = block_iden(X, 3, [64,64,256])\n",
        "    \n",
        "    # stage 3\n",
        "    X = block_conv(X, 3, [128,128,512], 2)\n",
        "    X = block_iden(X, 3, [128,128,512])\n",
        "    X = block_iden(X, 3, [128,128,512])\n",
        "    X = block_iden(X, 3, [128,128,512])\n",
        "    \n",
        "    # stage 4\n",
        "    X = block_conv(X, 3, [256,256,1024], 2)\n",
        "    X = block_iden(X, 3, [256,256,1024])\n",
        "    X = block_iden(X, 3, [256,256,1024])\n",
        "    X = block_iden(X, 3, [256,256,1024])\n",
        "    X = block_iden(X, 3, [256,256,1024])\n",
        "    X = block_iden(X, 3, [256,256,1024])\n",
        "    \n",
        "    # stage 5\n",
        "    X = block_conv(X, 3, [512,512,2048], 2)\n",
        "    X = block_iden(X, 3, [512,512,2048])\n",
        "    X = block_iden(X, 3, [512,512,2048])\n",
        "    \n",
        "    # final stage\n",
        "    X = AveragePooling2D(pool_size = (2,2))(X)\n",
        "    X = Flatten()(X)\n",
        "    X = Dense(classes, activation = 'softmax', kernel_initializer = glorot_uniform(seed=None))(X)\n",
        "    \n",
        "    # model\n",
        "    model = Model(X_input, X, name = 'ResNet50')\n",
        "    \n",
        "    return model"
      ],
      "execution_count": 16,
      "outputs": []
    },
    {
      "cell_type": "markdown",
      "metadata": {
        "id": "nSz_sJnaT2KJ"
      },
      "source": [
        "## **Initialize Model Resnet 50**"
      ]
    },
    {
      "cell_type": "code",
      "metadata": {
        "id": "7l8h9Mvv6pxg"
      },
      "source": [
        "model = resnet50((57,57,1), 7)\n"
      ],
      "execution_count": 17,
      "outputs": []
    },
    {
      "cell_type": "markdown",
      "metadata": {
        "id": "X3HRXhalT-Yf"
      },
      "source": [
        "## **Compile The Model**"
      ]
    },
    {
      "cell_type": "code",
      "metadata": {
        "id": "wNalijjG67T3"
      },
      "source": [
        "# compile the model\n",
        "model.compile(optimizer='adam', loss='categorical_crossentropy', metrics=['accuracy'])\n",
        "\n",
        "# model architecture \n",
        "model.summary()"
      ],
      "execution_count": 18,
      "outputs": []
    },
    {
      "cell_type": "markdown",
      "metadata": {
        "id": "sNvuMsRJUKRZ"
      },
      "source": [
        "## **Training CNN Resnet 50**"
      ]
    },
    {
      "cell_type": "code",
      "metadata": {
        "colab": {
          "base_uri": "https://localhost:8080/",
          "height": 1000
        },
        "id": "qypGy5mp7KOb",
        "outputId": "979276b0-22e3-43a8-d613-101c06f5912c"
      },
      "source": [
        "max_epoch = 100\n",
        "base_lr = 0.00001\n",
        "batchSize = [128, 64, 32, 16, 8, 4, 2, 1]\n",
        "def step_decay2(epoch): #Function yang bertujuan untuk menurunkan nilai learning rate disetiap epoch\n",
        "  #--------Keterangan variabel---------#\n",
        "  #epoch : nilai epoch ke-n atau saat ini\n",
        "  #maxEpoch : nilai epoch maksimal\n",
        "  #baseLr : nilai learning awal\n",
        "  maxEpochs = max_epoch\n",
        "  baseLR = base_lr\n",
        "  power = 1.0 # turns our polynomial decay into a linear decay\n",
        "  \n",
        "    # compute the new learning rate based on polynomial decay\n",
        "  alpha = baseLR * (1 - (epoch / maxEpochs)) ** power\n",
        "  return alpha\n",
        "\n",
        "# start the training process\n",
        "history = []\n",
        "for i in batchSize:\n",
        "  print(\"Batch Size: \", i)\n",
        "  checkpoint_name = '/content/drive/MyDrive/new_dataset/model/model_' + str(i) + '_batch_size.hdf5' #Inisialisasi lokasi dan nama bobot yang model yang akan disimpan\n",
        "  checkpoint = ModelCheckpoint(checkpoint_name, monitor='val_loss', verbose=1, batch_size=i, save_best_only=True, mode='min') #Function dari tensorflow untuk menyimpan bobot model berdasarkan nilai val_loss terkecil\n",
        "  lrate = LearningRateScheduler(step_decay2) #Function tensorflow untuk menurunkan nilai learning rate secara berkala dengan memanfaatkan function step_decay2()\n",
        "  callbacks_list = [checkpoint,lrate]\n",
        "\n",
        "\n",
        "  hist = model.fit(x_train, y_train, epochs = max_epoch, batch_size = i, validation_data=(x_val,y_val), callbacks=callbacks_list) #Memulai pelatihan\n",
        "  history.append(hist.history)\n",
        "  print(\"\\n\\n\")"
      ],
      "execution_count": 22,
      "outputs": [
        {
          "output_type": "stream",
          "text": [
            "Epoch 1/10\n",
            "127/127 [==============================] - 19s 131ms/step - loss: 1.3005 - accuracy: 0.5169 - val_loss: 1.3540 - val_accuracy: 0.5014\n",
            "\n",
            "Epoch 00001: val_loss improved from inf to 1.35402, saving model to /content/drive/MyDrive/new_dataset/model/model_128_batch_size.hdf5\n"
          ],
          "name": "stdout"
        },
        {
          "output_type": "stream",
          "text": [
            "/usr/local/lib/python3.7/dist-packages/tensorflow/python/keras/utils/generic_utils.py:497: CustomMaskWarning: Custom mask layers require a config and must override get_config. When loading, the custom mask layer must be passed to the custom_objects argument.\n",
            "  category=CustomMaskWarning)\n"
          ],
          "name": "stderr"
        },
        {
          "output_type": "stream",
          "text": [
            "Epoch 2/10\n",
            "127/127 [==============================] - 16s 125ms/step - loss: 1.2422 - accuracy: 0.5391 - val_loss: 1.3976 - val_accuracy: 0.4781\n",
            "\n",
            "Epoch 00002: val_loss did not improve from 1.35402\n",
            "Epoch 3/10\n",
            "127/127 [==============================] - 16s 125ms/step - loss: 1.1849 - accuracy: 0.5642 - val_loss: 1.4185 - val_accuracy: 0.4853\n",
            "\n",
            "Epoch 00003: val_loss did not improve from 1.35402\n",
            "Epoch 4/10\n",
            "127/127 [==============================] - 16s 125ms/step - loss: 1.1431 - accuracy: 0.5810 - val_loss: 1.5133 - val_accuracy: 0.4831\n",
            "\n",
            "Epoch 00004: val_loss did not improve from 1.35402\n",
            "Epoch 5/10\n",
            "127/127 [==============================] - 16s 127ms/step - loss: 1.0646 - accuracy: 0.6161 - val_loss: 1.1812 - val_accuracy: 0.5713\n",
            "\n",
            "Epoch 00005: val_loss improved from 1.35402 to 1.18117, saving model to /content/drive/MyDrive/new_dataset/model/model_128_batch_size.hdf5\n",
            "Epoch 6/10\n",
            "127/127 [==============================] - 16s 127ms/step - loss: 1.0204 - accuracy: 0.6332 - val_loss: 1.1804 - val_accuracy: 0.5514\n",
            "\n",
            "Epoch 00006: val_loss improved from 1.18117 to 1.18036, saving model to /content/drive/MyDrive/new_dataset/model/model_128_batch_size.hdf5\n",
            "Epoch 7/10\n",
            "127/127 [==============================] - 16s 127ms/step - loss: 0.9600 - accuracy: 0.6515 - val_loss: 1.1300 - val_accuracy: 0.5963\n",
            "\n",
            "Epoch 00007: val_loss improved from 1.18036 to 1.13003, saving model to /content/drive/MyDrive/new_dataset/model/model_128_batch_size.hdf5\n",
            "Epoch 8/10\n",
            "127/127 [==============================] - 16s 127ms/step - loss: 0.9264 - accuracy: 0.6691 - val_loss: 1.1539 - val_accuracy: 0.5858\n",
            "\n",
            "Epoch 00008: val_loss did not improve from 1.13003\n",
            "Epoch 9/10\n",
            "127/127 [==============================] - 16s 127ms/step - loss: 0.8855 - accuracy: 0.6840 - val_loss: 1.0150 - val_accuracy: 0.6380\n",
            "\n",
            "Epoch 00009: val_loss improved from 1.13003 to 1.01500, saving model to /content/drive/MyDrive/new_dataset/model/model_128_batch_size.hdf5\n",
            "Epoch 10/10\n",
            "127/127 [==============================] - 16s 128ms/step - loss: 0.8362 - accuracy: 0.7047 - val_loss: 0.9656 - val_accuracy: 0.6741\n",
            "\n",
            "Epoch 00010: val_loss improved from 1.01500 to 0.96560, saving model to /content/drive/MyDrive/new_dataset/model/model_128_batch_size.hdf5\n",
            "Epoch 1/10\n",
            "254/254 [==============================] - 22s 82ms/step - loss: 1.3252 - accuracy: 0.5014 - val_loss: 1.6695 - val_accuracy: 0.4270\n",
            "\n",
            "Epoch 00001: val_loss improved from inf to 1.66951, saving model to /content/drive/MyDrive/new_dataset/model/model_64_batch_size.hdf5\n",
            "Epoch 2/10\n",
            "254/254 [==============================] - 20s 79ms/step - loss: 1.2438 - accuracy: 0.5343 - val_loss: 1.7785 - val_accuracy: 0.4192\n",
            "\n",
            "Epoch 00002: val_loss did not improve from 1.66951\n",
            "Epoch 3/10\n",
            "254/254 [==============================] - 20s 77ms/step - loss: 1.1903 - accuracy: 0.5536 - val_loss: 1.3221 - val_accuracy: 0.5186\n",
            "\n",
            "Epoch 00003: val_loss improved from 1.66951 to 1.32213, saving model to /content/drive/MyDrive/new_dataset/model/model_64_batch_size.hdf5\n",
            "Epoch 4/10\n",
            "254/254 [==============================] - 20s 79ms/step - loss: 1.0926 - accuracy: 0.5965 - val_loss: 1.2552 - val_accuracy: 0.5508\n",
            "\n",
            "Epoch 00004: val_loss improved from 1.32213 to 1.25515, saving model to /content/drive/MyDrive/new_dataset/model/model_64_batch_size.hdf5\n",
            "Epoch 5/10\n",
            "254/254 [==============================] - 20s 79ms/step - loss: 1.0531 - accuracy: 0.6088 - val_loss: 1.0595 - val_accuracy: 0.6130\n",
            "\n",
            "Epoch 00005: val_loss improved from 1.25515 to 1.05947, saving model to /content/drive/MyDrive/new_dataset/model/model_64_batch_size.hdf5\n",
            "Epoch 6/10\n",
            "254/254 [==============================] - 20s 79ms/step - loss: 1.0001 - accuracy: 0.6295 - val_loss: 1.1823 - val_accuracy: 0.5702\n",
            "\n",
            "Epoch 00006: val_loss did not improve from 1.05947\n",
            "Epoch 7/10\n",
            "254/254 [==============================] - 20s 77ms/step - loss: 0.9544 - accuracy: 0.6470 - val_loss: 1.1759 - val_accuracy: 0.5819\n",
            "\n",
            "Epoch 00007: val_loss did not improve from 1.05947\n",
            "Epoch 8/10\n",
            "254/254 [==============================] - 20s 78ms/step - loss: 0.9070 - accuracy: 0.6694 - val_loss: 0.9647 - val_accuracy: 0.6602\n",
            "\n",
            "Epoch 00008: val_loss improved from 1.05947 to 0.96471, saving model to /content/drive/MyDrive/new_dataset/model/model_64_batch_size.hdf5\n",
            "Epoch 9/10\n",
            "254/254 [==============================] - 20s 79ms/step - loss: 0.8647 - accuracy: 0.6866 - val_loss: 1.0276 - val_accuracy: 0.6297\n",
            "\n",
            "Epoch 00009: val_loss did not improve from 0.96471\n",
            "Epoch 10/10\n",
            "254/254 [==============================] - 20s 78ms/step - loss: 0.8310 - accuracy: 0.6971 - val_loss: 0.9529 - val_accuracy: 0.6635\n",
            "\n",
            "Epoch 00010: val_loss improved from 0.96471 to 0.95292, saving model to /content/drive/MyDrive/new_dataset/model/model_64_batch_size.hdf5\n",
            "Epoch 1/10\n",
            "507/507 [==============================] - 30s 59ms/step - loss: 1.3309 - accuracy: 0.4972 - val_loss: 1.5178 - val_accuracy: 0.4614\n",
            "\n",
            "Epoch 00001: val_loss improved from inf to 1.51781, saving model to /content/drive/MyDrive/new_dataset/model/model_32_batch_size.hdf5\n",
            "Epoch 2/10\n",
            "507/507 [==============================] - 30s 59ms/step - loss: 1.2499 - accuracy: 0.5269 - val_loss: 1.2547 - val_accuracy: 0.5336\n",
            "\n",
            "Epoch 00002: val_loss improved from 1.51781 to 1.25472, saving model to /content/drive/MyDrive/new_dataset/model/model_32_batch_size.hdf5\n",
            "Epoch 3/10\n",
            "507/507 [==============================] - 30s 59ms/step - loss: 1.1905 - accuracy: 0.5508 - val_loss: 1.3171 - val_accuracy: 0.5114\n",
            "\n",
            "Epoch 00003: val_loss did not improve from 1.25472\n",
            "Epoch 4/10\n",
            "507/507 [==============================] - 29s 57ms/step - loss: 1.1333 - accuracy: 0.5721 - val_loss: 1.2680 - val_accuracy: 0.5303\n",
            "\n",
            "Epoch 00004: val_loss did not improve from 1.25472\n",
            "Epoch 5/10\n",
            "507/507 [==============================] - 29s 58ms/step - loss: 1.0753 - accuracy: 0.5990 - val_loss: 1.4001 - val_accuracy: 0.5480\n",
            "\n",
            "Epoch 00005: val_loss did not improve from 1.25472\n",
            "Epoch 6/10\n",
            "507/507 [==============================] - 29s 58ms/step - loss: 1.0410 - accuracy: 0.6104 - val_loss: 1.0531 - val_accuracy: 0.6102\n",
            "\n",
            "Epoch 00006: val_loss improved from 1.25472 to 1.05312, saving model to /content/drive/MyDrive/new_dataset/model/model_32_batch_size.hdf5\n",
            "Epoch 7/10\n",
            "507/507 [==============================] - 30s 60ms/step - loss: 0.9840 - accuracy: 0.6344 - val_loss: 1.1357 - val_accuracy: 0.5791\n",
            "\n",
            "Epoch 00007: val_loss did not improve from 1.05312\n",
            "Epoch 8/10\n",
            "507/507 [==============================] - 29s 58ms/step - loss: 0.9560 - accuracy: 0.6446 - val_loss: 1.4031 - val_accuracy: 0.5236\n",
            "\n",
            "Epoch 00008: val_loss did not improve from 1.05312\n",
            "Epoch 9/10\n",
            "507/507 [==============================] - 29s 58ms/step - loss: 0.9134 - accuracy: 0.6596 - val_loss: 1.1053 - val_accuracy: 0.6013\n",
            "\n",
            "Epoch 00009: val_loss did not improve from 1.05312\n",
            "Epoch 10/10\n",
            "507/507 [==============================] - 30s 58ms/step - loss: 0.8925 - accuracy: 0.6703 - val_loss: 1.1536 - val_accuracy: 0.5836\n",
            "\n",
            "Epoch 00010: val_loss did not improve from 1.05312\n",
            "Epoch 1/10\n",
            "  683/16208 [>.............................] - ETA: 7:12 - loss: 2.0299 - accuracy: 0.1318"
          ],
          "name": "stdout"
        },
        {
          "output_type": "error",
          "ename": "KeyboardInterrupt",
          "evalue": "ignored",
          "traceback": [
            "\u001b[0;31m---------------------------------------------------------------------------\u001b[0m",
            "\u001b[0;31mKeyboardInterrupt\u001b[0m                         Traceback (most recent call last)",
            "\u001b[0;32m<ipython-input-22-dd110631a9d8>\u001b[0m in \u001b[0;36m<module>\u001b[0;34m()\u001b[0m\n\u001b[1;32m     24\u001b[0m \u001b[0;34m\u001b[0m\u001b[0m\n\u001b[1;32m     25\u001b[0m \u001b[0;34m\u001b[0m\u001b[0m\n\u001b[0;32m---> 26\u001b[0;31m   \u001b[0mhist\u001b[0m \u001b[0;34m=\u001b[0m \u001b[0mmodel\u001b[0m\u001b[0;34m.\u001b[0m\u001b[0mfit\u001b[0m\u001b[0;34m(\u001b[0m\u001b[0mx_train\u001b[0m\u001b[0;34m,\u001b[0m \u001b[0my_train\u001b[0m\u001b[0;34m,\u001b[0m \u001b[0mepochs\u001b[0m \u001b[0;34m=\u001b[0m \u001b[0mmax_epoch\u001b[0m\u001b[0;34m,\u001b[0m \u001b[0mbatch_size\u001b[0m \u001b[0;34m=\u001b[0m \u001b[0mi\u001b[0m\u001b[0;34m,\u001b[0m \u001b[0mvalidation_data\u001b[0m\u001b[0;34m=\u001b[0m\u001b[0;34m(\u001b[0m\u001b[0mx_val\u001b[0m\u001b[0;34m,\u001b[0m\u001b[0my_val\u001b[0m\u001b[0;34m)\u001b[0m\u001b[0;34m,\u001b[0m \u001b[0mcallbacks\u001b[0m\u001b[0;34m=\u001b[0m\u001b[0mcallbacks_list\u001b[0m\u001b[0;34m)\u001b[0m \u001b[0;31m#Memulai pelatihan\u001b[0m\u001b[0;34m\u001b[0m\u001b[0;34m\u001b[0m\u001b[0m\n\u001b[0m\u001b[1;32m     27\u001b[0m   \u001b[0mhistory\u001b[0m\u001b[0;34m.\u001b[0m\u001b[0mappend\u001b[0m\u001b[0;34m(\u001b[0m\u001b[0mhist\u001b[0m\u001b[0;34m.\u001b[0m\u001b[0mhistory\u001b[0m\u001b[0;34m)\u001b[0m\u001b[0;34m\u001b[0m\u001b[0;34m\u001b[0m\u001b[0m\n",
            "\u001b[0;32m/usr/local/lib/python3.7/dist-packages/tensorflow/python/keras/engine/training.py\u001b[0m in \u001b[0;36mfit\u001b[0;34m(self, x, y, batch_size, epochs, verbose, callbacks, validation_split, validation_data, shuffle, class_weight, sample_weight, initial_epoch, steps_per_epoch, validation_steps, validation_batch_size, validation_freq, max_queue_size, workers, use_multiprocessing)\u001b[0m\n\u001b[1;32m   1181\u001b[0m                 _r=1):\n\u001b[1;32m   1182\u001b[0m               \u001b[0mcallbacks\u001b[0m\u001b[0;34m.\u001b[0m\u001b[0mon_train_batch_begin\u001b[0m\u001b[0;34m(\u001b[0m\u001b[0mstep\u001b[0m\u001b[0;34m)\u001b[0m\u001b[0;34m\u001b[0m\u001b[0;34m\u001b[0m\u001b[0m\n\u001b[0;32m-> 1183\u001b[0;31m               \u001b[0mtmp_logs\u001b[0m \u001b[0;34m=\u001b[0m \u001b[0mself\u001b[0m\u001b[0;34m.\u001b[0m\u001b[0mtrain_function\u001b[0m\u001b[0;34m(\u001b[0m\u001b[0miterator\u001b[0m\u001b[0;34m)\u001b[0m\u001b[0;34m\u001b[0m\u001b[0;34m\u001b[0m\u001b[0m\n\u001b[0m\u001b[1;32m   1184\u001b[0m               \u001b[0;32mif\u001b[0m \u001b[0mdata_handler\u001b[0m\u001b[0;34m.\u001b[0m\u001b[0mshould_sync\u001b[0m\u001b[0;34m:\u001b[0m\u001b[0;34m\u001b[0m\u001b[0;34m\u001b[0m\u001b[0m\n\u001b[1;32m   1185\u001b[0m                 \u001b[0mcontext\u001b[0m\u001b[0;34m.\u001b[0m\u001b[0masync_wait\u001b[0m\u001b[0;34m(\u001b[0m\u001b[0;34m)\u001b[0m\u001b[0;34m\u001b[0m\u001b[0;34m\u001b[0m\u001b[0m\n",
            "\u001b[0;32m/usr/local/lib/python3.7/dist-packages/tensorflow/python/eager/def_function.py\u001b[0m in \u001b[0;36m__call__\u001b[0;34m(self, *args, **kwds)\u001b[0m\n\u001b[1;32m    887\u001b[0m \u001b[0;34m\u001b[0m\u001b[0m\n\u001b[1;32m    888\u001b[0m       \u001b[0;32mwith\u001b[0m \u001b[0mOptionalXlaContext\u001b[0m\u001b[0;34m(\u001b[0m\u001b[0mself\u001b[0m\u001b[0;34m.\u001b[0m\u001b[0m_jit_compile\u001b[0m\u001b[0;34m)\u001b[0m\u001b[0;34m:\u001b[0m\u001b[0;34m\u001b[0m\u001b[0;34m\u001b[0m\u001b[0m\n\u001b[0;32m--> 889\u001b[0;31m         \u001b[0mresult\u001b[0m \u001b[0;34m=\u001b[0m \u001b[0mself\u001b[0m\u001b[0;34m.\u001b[0m\u001b[0m_call\u001b[0m\u001b[0;34m(\u001b[0m\u001b[0;34m*\u001b[0m\u001b[0margs\u001b[0m\u001b[0;34m,\u001b[0m \u001b[0;34m**\u001b[0m\u001b[0mkwds\u001b[0m\u001b[0;34m)\u001b[0m\u001b[0;34m\u001b[0m\u001b[0;34m\u001b[0m\u001b[0m\n\u001b[0m\u001b[1;32m    890\u001b[0m \u001b[0;34m\u001b[0m\u001b[0m\n\u001b[1;32m    891\u001b[0m       \u001b[0mnew_tracing_count\u001b[0m \u001b[0;34m=\u001b[0m \u001b[0mself\u001b[0m\u001b[0;34m.\u001b[0m\u001b[0mexperimental_get_tracing_count\u001b[0m\u001b[0;34m(\u001b[0m\u001b[0;34m)\u001b[0m\u001b[0;34m\u001b[0m\u001b[0;34m\u001b[0m\u001b[0m\n",
            "\u001b[0;32m/usr/local/lib/python3.7/dist-packages/tensorflow/python/eager/def_function.py\u001b[0m in \u001b[0;36m_call\u001b[0;34m(self, *args, **kwds)\u001b[0m\n\u001b[1;32m    922\u001b[0m       \u001b[0;31m# In this case we have not created variables on the first call. So we can\u001b[0m\u001b[0;34m\u001b[0m\u001b[0;34m\u001b[0m\u001b[0;34m\u001b[0m\u001b[0m\n\u001b[1;32m    923\u001b[0m       \u001b[0;31m# run the first trace but we should fail if variables are created.\u001b[0m\u001b[0;34m\u001b[0m\u001b[0;34m\u001b[0m\u001b[0;34m\u001b[0m\u001b[0m\n\u001b[0;32m--> 924\u001b[0;31m       \u001b[0mresults\u001b[0m \u001b[0;34m=\u001b[0m \u001b[0mself\u001b[0m\u001b[0;34m.\u001b[0m\u001b[0m_stateful_fn\u001b[0m\u001b[0;34m(\u001b[0m\u001b[0;34m*\u001b[0m\u001b[0margs\u001b[0m\u001b[0;34m,\u001b[0m \u001b[0;34m**\u001b[0m\u001b[0mkwds\u001b[0m\u001b[0;34m)\u001b[0m\u001b[0;34m\u001b[0m\u001b[0;34m\u001b[0m\u001b[0m\n\u001b[0m\u001b[1;32m    925\u001b[0m       \u001b[0;32mif\u001b[0m \u001b[0mself\u001b[0m\u001b[0;34m.\u001b[0m\u001b[0m_created_variables\u001b[0m\u001b[0;34m:\u001b[0m\u001b[0;34m\u001b[0m\u001b[0;34m\u001b[0m\u001b[0m\n\u001b[1;32m    926\u001b[0m         raise ValueError(\"Creating variables on a non-first call to a function\"\n",
            "\u001b[0;32m/usr/local/lib/python3.7/dist-packages/tensorflow/python/eager/function.py\u001b[0m in \u001b[0;36m__call__\u001b[0;34m(self, *args, **kwargs)\u001b[0m\n\u001b[1;32m   3022\u001b[0m        filtered_flat_args) = self._maybe_define_function(args, kwargs)\n\u001b[1;32m   3023\u001b[0m     return graph_function._call_flat(\n\u001b[0;32m-> 3024\u001b[0;31m         filtered_flat_args, captured_inputs=graph_function.captured_inputs)  # pylint: disable=protected-access\n\u001b[0m\u001b[1;32m   3025\u001b[0m \u001b[0;34m\u001b[0m\u001b[0m\n\u001b[1;32m   3026\u001b[0m   \u001b[0;34m@\u001b[0m\u001b[0mproperty\u001b[0m\u001b[0;34m\u001b[0m\u001b[0;34m\u001b[0m\u001b[0m\n",
            "\u001b[0;32m/usr/local/lib/python3.7/dist-packages/tensorflow/python/eager/function.py\u001b[0m in \u001b[0;36m_call_flat\u001b[0;34m(self, args, captured_inputs, cancellation_manager)\u001b[0m\n\u001b[1;32m   1959\u001b[0m       \u001b[0;31m# No tape is watching; skip to running the function.\u001b[0m\u001b[0;34m\u001b[0m\u001b[0;34m\u001b[0m\u001b[0;34m\u001b[0m\u001b[0m\n\u001b[1;32m   1960\u001b[0m       return self._build_call_outputs(self._inference_function.call(\n\u001b[0;32m-> 1961\u001b[0;31m           ctx, args, cancellation_manager=cancellation_manager))\n\u001b[0m\u001b[1;32m   1962\u001b[0m     forward_backward = self._select_forward_and_backward_functions(\n\u001b[1;32m   1963\u001b[0m         \u001b[0margs\u001b[0m\u001b[0;34m,\u001b[0m\u001b[0;34m\u001b[0m\u001b[0;34m\u001b[0m\u001b[0m\n",
            "\u001b[0;32m/usr/local/lib/python3.7/dist-packages/tensorflow/python/eager/function.py\u001b[0m in \u001b[0;36mcall\u001b[0;34m(self, ctx, args, cancellation_manager)\u001b[0m\n\u001b[1;32m    594\u001b[0m               \u001b[0minputs\u001b[0m\u001b[0;34m=\u001b[0m\u001b[0margs\u001b[0m\u001b[0;34m,\u001b[0m\u001b[0;34m\u001b[0m\u001b[0;34m\u001b[0m\u001b[0m\n\u001b[1;32m    595\u001b[0m               \u001b[0mattrs\u001b[0m\u001b[0;34m=\u001b[0m\u001b[0mattrs\u001b[0m\u001b[0;34m,\u001b[0m\u001b[0;34m\u001b[0m\u001b[0;34m\u001b[0m\u001b[0m\n\u001b[0;32m--> 596\u001b[0;31m               ctx=ctx)\n\u001b[0m\u001b[1;32m    597\u001b[0m         \u001b[0;32melse\u001b[0m\u001b[0;34m:\u001b[0m\u001b[0;34m\u001b[0m\u001b[0;34m\u001b[0m\u001b[0m\n\u001b[1;32m    598\u001b[0m           outputs = execute.execute_with_cancellation(\n",
            "\u001b[0;32m/usr/local/lib/python3.7/dist-packages/tensorflow/python/eager/execute.py\u001b[0m in \u001b[0;36mquick_execute\u001b[0;34m(op_name, num_outputs, inputs, attrs, ctx, name)\u001b[0m\n\u001b[1;32m     58\u001b[0m     \u001b[0mctx\u001b[0m\u001b[0;34m.\u001b[0m\u001b[0mensure_initialized\u001b[0m\u001b[0;34m(\u001b[0m\u001b[0;34m)\u001b[0m\u001b[0;34m\u001b[0m\u001b[0;34m\u001b[0m\u001b[0m\n\u001b[1;32m     59\u001b[0m     tensors = pywrap_tfe.TFE_Py_Execute(ctx._handle, device_name, op_name,\n\u001b[0;32m---> 60\u001b[0;31m                                         inputs, attrs, num_outputs)\n\u001b[0m\u001b[1;32m     61\u001b[0m   \u001b[0;32mexcept\u001b[0m \u001b[0mcore\u001b[0m\u001b[0;34m.\u001b[0m\u001b[0m_NotOkStatusException\u001b[0m \u001b[0;32mas\u001b[0m \u001b[0me\u001b[0m\u001b[0;34m:\u001b[0m\u001b[0;34m\u001b[0m\u001b[0;34m\u001b[0m\u001b[0m\n\u001b[1;32m     62\u001b[0m     \u001b[0;32mif\u001b[0m \u001b[0mname\u001b[0m \u001b[0;32mis\u001b[0m \u001b[0;32mnot\u001b[0m \u001b[0;32mNone\u001b[0m\u001b[0;34m:\u001b[0m\u001b[0;34m\u001b[0m\u001b[0;34m\u001b[0m\u001b[0m\n",
            "\u001b[0;31mKeyboardInterrupt\u001b[0m: "
          ]
        }
      ]
    },
    {
      "cell_type": "markdown",
      "metadata": {
        "id": "Xcmqysc4USBU"
      },
      "source": [
        "## **Testing CNN Resnet 50**"
      ]
    },
    {
      "cell_type": "code",
      "metadata": {
        "colab": {
          "base_uri": "https://localhost:8080/"
        },
        "id": "pesvzLYl7KRR",
        "outputId": "05c17d23-59b5-4598-dba6-c228685db569"
      },
      "source": [
        "# evaluate the model using the validation data\n",
        "tf.keras.backend.clear_session() #Mereset bobot model\n",
        "# for i in len(range(x_test)):\n",
        "#   x_test[i] = x_test[i].astype('float')/255\n",
        "for i in batchSize:\n",
        "  model = load_model('/content/drive/MyDrive/new_dataset/model/model_' + str(i) + '_batch_size.hdf5') #Load bobot model yang baru disimpan\n",
        "  preds = model.evaluate(x_test, y_test)\n",
        "\n",
        "  print (\"Validation Loss = \" + str(preds[0]))\n",
        "  print (\"Validation Accuracy = \" + str(preds[1]))"
      ],
      "execution_count": 24,
      "outputs": [
        {
          "output_type": "stream",
          "text": [
            "3/3 [==============================] - 1s 27ms/step - loss: 1.5344 - accuracy: 0.4667\n",
            "Validation Loss = 1.534413456916809\n",
            "Validation Accuracy = 0.46666666865348816\n",
            "3/3 [==============================] - 1s 28ms/step - loss: 1.6656 - accuracy: 0.4267\n",
            "Validation Loss = 1.665631890296936\n",
            "Validation Accuracy = 0.4266666769981384\n",
            "3/3 [==============================] - 1s 26ms/step - loss: 1.6073 - accuracy: 0.4933\n",
            "Validation Loss = 1.6073168516159058\n",
            "Validation Accuracy = 0.4933333396911621\n"
          ],
          "name": "stdout"
        }
      ]
    },
    {
      "cell_type": "markdown",
      "metadata": {
        "id": "k3NbdeF6Uh6b"
      },
      "source": [
        "## **Plot Loss & Validation Loss**"
      ]
    },
    {
      "cell_type": "code",
      "metadata": {
        "colab": {
          "base_uri": "https://localhost:8080/",
          "height": 854
        },
        "id": "COxHt7gv7KTn",
        "outputId": "ef460e64-f4ea-40a0-8fcc-ba30a569ee33"
      },
      "source": [
        "import matplotlib.pyplot as plt\n",
        "\n",
        "for i in range(len(history)):\n",
        "  loss = history[i]['loss']\n",
        "  val_loss = history[i]['val_loss']\n",
        "  epoch = np.arange(0,len(history[i]['loss']))\n",
        "  plt.title('Loss & Validation Loss with Batch Size:' + str(batchSize[i]))\n",
        "  plt.plot(epoch, loss)\n",
        "  plt.plot(epoch, val_loss)\n",
        "  plt.ylabel('loss')\n",
        "  plt.xlabel('val_loss')\n",
        "  plt.legend(['loss', 'validation loss'], loc='upper right')\n",
        "  plt.show()"
      ],
      "execution_count": 23,
      "outputs": [
        {
          "output_type": "display_data",
          "data": {
            "image/png": "[encoded data removed]",
            "text/plain": [
              "<Figure size 432x288 with 1 Axes>"
            ]
          },
          "metadata": {
            "tags": [],
            "needs_background": "light"
          }
        },
        {
          "output_type": "display_data",
          "data": {
            "image/png": "[encoded data removed]",
            "text/plain": [
              "<Figure size 432x288 with 1 Axes>"
            ]
          },
          "metadata": {
            "tags": [],
            "needs_background": "light"
          }
        },
        {
          "output_type": "display_data",
          "data": {
            "image/png": "[encoded data removed]",
            "text/plain": [
              "<Figure size 432x288 with 1 Axes>"
            ]
          },
          "metadata": {
            "tags": [],
            "needs_background": "light"
          }
        }
      ]
    }
  ]
}